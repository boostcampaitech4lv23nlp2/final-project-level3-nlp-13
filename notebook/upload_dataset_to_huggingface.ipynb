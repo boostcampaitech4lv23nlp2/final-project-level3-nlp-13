{
 "cells": [
  {
   "cell_type": "code",
   "execution_count": 1,
   "id": "3635deb6-1552-4f1c-8c6f-134d5025d730",
   "metadata": {},
   "outputs": [
    {
     "name": "stderr",
     "output_type": "stream",
     "text": [
      "/opt/conda/lib/python3.8/site-packages/tqdm/auto.py:22: TqdmWarning: IProgress not found. Please update jupyter and ipywidgets. See https://ipywidgets.readthedocs.io/en/stable/user_install.html\n",
      "  from .autonotebook import tqdm as notebook_tqdm\n"
     ]
    }
   ],
   "source": [
    "import pandas as pd\n",
    "import numpy as np\n",
    "from pandas import Series, DataFrame\n",
    "from datasets import DatasetDict\n",
    "from datasets import load_dataset\n",
    "\n",
    "import sys\n",
    "import re\n",
    "import string\n",
    "\n",
    "import json"
   ]
  },
  {
   "cell_type": "markdown",
   "id": "b7ecd76f-a4a8-4f5e-8dd1-1529449bb571",
   "metadata": {},
   "source": [
    "### datasetdict 형식으로 바꾸기\n",
    "\n",
    "공식 문서: https://huggingface.co/docs/datasets/upload_dataset\n",
    "참고 자료: https://wikidocs.net/166816"
   ]
  },
  {
   "cell_type": "code",
   "execution_count": 2,
   "id": "7065dee4-a36c-4ea8-88f1-e8730af47fec",
   "metadata": {},
   "outputs": [
    {
     "data": {
      "text/html": [
       "<div>\n",
       "<style scoped>\n",
       "    .dataframe tbody tr th:only-of-type {\n",
       "        vertical-align: middle;\n",
       "    }\n",
       "\n",
       "    .dataframe tbody tr th {\n",
       "        vertical-align: top;\n",
       "    }\n",
       "\n",
       "    .dataframe thead th {\n",
       "        text-align: right;\n",
       "    }\n",
       "</style>\n",
       "<table border=\"1\" class=\"dataframe\">\n",
       "  <thead>\n",
       "    <tr style=\"text-align: right;\">\n",
       "      <th></th>\n",
       "      <th>Q</th>\n",
       "      <th>A</th>\n",
       "    </tr>\n",
       "  </thead>\n",
       "  <tbody>\n",
       "    <tr>\n",
       "      <th>0</th>\n",
       "      <td>12시 땡!</td>\n",
       "      <td>하루가 또 가네요.</td>\n",
       "    </tr>\n",
       "    <tr>\n",
       "      <th>1</th>\n",
       "      <td>1지망 학교 떨어졌어</td>\n",
       "      <td>위로해 드립니다.</td>\n",
       "    </tr>\n",
       "    <tr>\n",
       "      <th>2</th>\n",
       "      <td>3박4일 놀러가고 싶다</td>\n",
       "      <td>여행은 언제나 좋죠.</td>\n",
       "    </tr>\n",
       "    <tr>\n",
       "      <th>3</th>\n",
       "      <td>3박4일 정도 놀러가고 싶다</td>\n",
       "      <td>여행은 언제나 좋죠.</td>\n",
       "    </tr>\n",
       "    <tr>\n",
       "      <th>4</th>\n",
       "      <td>PPL 심하네</td>\n",
       "      <td>눈살이 찌푸려지죠.</td>\n",
       "    </tr>\n",
       "    <tr>\n",
       "      <th>...</th>\n",
       "      <td>...</td>\n",
       "      <td>...</td>\n",
       "    </tr>\n",
       "    <tr>\n",
       "      <th>11818</th>\n",
       "      <td>훔쳐보는 것도 눈치 보임.</td>\n",
       "      <td>티가 나니까 눈치가 보이는 거죠!</td>\n",
       "    </tr>\n",
       "    <tr>\n",
       "      <th>11819</th>\n",
       "      <td>훔쳐보는 것도 눈치 보임.</td>\n",
       "      <td>훔쳐보는 거 티나나봐요.</td>\n",
       "    </tr>\n",
       "    <tr>\n",
       "      <th>11820</th>\n",
       "      <td>흑기사 해주는 짝남.</td>\n",
       "      <td>설렜겠어요.</td>\n",
       "    </tr>\n",
       "    <tr>\n",
       "      <th>11821</th>\n",
       "      <td>힘든 연애 좋은 연애라는게 무슨 차이일까?</td>\n",
       "      <td>잘 헤어질 수 있는 사이 여부인 거 같아요.</td>\n",
       "    </tr>\n",
       "    <tr>\n",
       "      <th>11822</th>\n",
       "      <td>힘들어서 결혼할까봐</td>\n",
       "      <td>도피성 결혼은 하지 않길 바라요.</td>\n",
       "    </tr>\n",
       "  </tbody>\n",
       "</table>\n",
       "<p>11823 rows × 2 columns</p>\n",
       "</div>"
      ],
      "text/plain": [
       "                             Q                         A\n",
       "0                       12시 땡!                하루가 또 가네요.\n",
       "1                  1지망 학교 떨어졌어                 위로해 드립니다.\n",
       "2                 3박4일 놀러가고 싶다               여행은 언제나 좋죠.\n",
       "3              3박4일 정도 놀러가고 싶다               여행은 언제나 좋죠.\n",
       "4                      PPL 심하네                눈살이 찌푸려지죠.\n",
       "...                        ...                       ...\n",
       "11818           훔쳐보는 것도 눈치 보임.        티가 나니까 눈치가 보이는 거죠!\n",
       "11819           훔쳐보는 것도 눈치 보임.             훔쳐보는 거 티나나봐요.\n",
       "11820              흑기사 해주는 짝남.                    설렜겠어요.\n",
       "11821  힘든 연애 좋은 연애라는게 무슨 차이일까?  잘 헤어질 수 있는 사이 여부인 거 같아요.\n",
       "11822               힘들어서 결혼할까봐        도피성 결혼은 하지 않길 바라요.\n",
       "\n",
       "[11823 rows x 2 columns]"
      ]
     },
     "execution_count": 2,
     "metadata": {},
     "output_type": "execute_result"
    }
   ],
   "source": [
    "chat = pd.read_csv(\"ChatbotData_2.csv\")\n",
    "chat"
   ]
  },
  {
   "cell_type": "code",
   "execution_count": 3,
   "id": "57ba7fe7-b91c-4f05-a72f-af9c0e118567",
   "metadata": {},
   "outputs": [],
   "source": [
    "chat.reset_index().to_json('ChatbotData.json', orient='records')"
   ]
  },
  {
   "cell_type": "markdown",
   "id": "32914050-e9cc-4b03-9150-5a27dd5b411c",
   "metadata": {},
   "source": [
    "### 비율 나누기"
   ]
  },
  {
   "cell_type": "code",
   "execution_count": 4,
   "id": "26e736f9-33c6-48d3-a18f-288082675edb",
   "metadata": {},
   "outputs": [],
   "source": [
    "chat_train = chat[:9465]\n",
    "chat_train.reset_index().to_json('Chat_train.json', orient='records')"
   ]
  },
  {
   "cell_type": "code",
   "execution_count": 5,
   "id": "716d019d-4c49-499f-a306-9413efca10d6",
   "metadata": {},
   "outputs": [],
   "source": [
    "chat_valid = chat[9465:]\n",
    "chat_valid.reset_index().to_json('Chat_valid.json', orient='records')"
   ]
  },
  {
   "cell_type": "code",
   "execution_count": 6,
   "id": "8408da6e-0aff-4731-b994-761b6b62d28d",
   "metadata": {},
   "outputs": [
    {
     "name": "stderr",
     "output_type": "stream",
     "text": [
      "Using custom data configuration default-54150f0b898e28dc\n"
     ]
    },
    {
     "name": "stdout",
     "output_type": "stream",
     "text": [
      "Downloading and preparing dataset json/default to /opt/ml/.cache/huggingface/datasets/json/default-54150f0b898e28dc/0.0.0/0f7e3662623656454fcd2b650f34e886a7db4b9104504885bd462096cc7a9f51...\n"
     ]
    },
    {
     "name": "stderr",
     "output_type": "stream",
     "text": [
      "Downloading data files: 100%|██████████| 2/2 [00:00<00:00, 4788.02it/s]\n",
      "Extracting data files: 100%|██████████| 2/2 [00:00<00:00, 1327.10it/s]\n",
      "                                                        \r"
     ]
    },
    {
     "name": "stdout",
     "output_type": "stream",
     "text": [
      "Dataset json downloaded and prepared to /opt/ml/.cache/huggingface/datasets/json/default-54150f0b898e28dc/0.0.0/0f7e3662623656454fcd2b650f34e886a7db4b9104504885bd462096cc7a9f51. Subsequent calls will reuse this data.\n"
     ]
    },
    {
     "name": "stderr",
     "output_type": "stream",
     "text": [
      "100%|██████████| 2/2 [00:00<00:00, 678.64it/s]\n"
     ]
    }
   ],
   "source": [
    "data_files = {'train': 'Chat_train.json', 'test': 'Chat_valid.json'}\n",
    "huggingface_data = load_dataset(\"json\", data_files=data_files)"
   ]
  },
  {
   "cell_type": "code",
   "execution_count": 7,
   "id": "0dac7d69-cdd6-4224-8dfb-19ca521d54a6",
   "metadata": {},
   "outputs": [
    {
     "data": {
      "text/plain": [
       "DatasetDict({\n",
       "    train: Dataset({\n",
       "        features: ['index', 'Q', 'A'],\n",
       "        num_rows: 9465\n",
       "    })\n",
       "    test: Dataset({\n",
       "        features: ['index', 'Q', 'A'],\n",
       "        num_rows: 2358\n",
       "    })\n",
       "})"
      ]
     },
     "execution_count": 7,
     "metadata": {},
     "output_type": "execute_result"
    }
   ],
   "source": [
    "huggingface_data"
   ]
  },
  {
   "cell_type": "code",
   "execution_count": 8,
   "id": "00390ffe-b584-4e93-b3bf-602a510a1ca1",
   "metadata": {},
   "outputs": [
    {
     "name": "stderr",
     "output_type": "stream",
     "text": [
      "Pushing split train to the Hub.\n",
      "Pushing dataset shards to the dataset hub: 100%|██████████| 1/1 [00:02<00:00,  2.98s/it]\n",
      "Deleting unused files from dataset repository: 100%|██████████| 1/1 [00:01<00:00,  1.29s/it]\n",
      "Pushing split test to the Hub.\n",
      "Pushing dataset shards to the dataset hub: 100%|██████████| 1/1 [00:03<00:00,  3.17s/it]\n",
      "Deleting unused files from dataset repository: 100%|██████████| 1/1 [00:01<00:00,  1.33s/it]\n",
      "Downloading metadata: 100%|██████████| 894/894 [00:00<00:00, 720kB/s]\n"
     ]
    }
   ],
   "source": [
    "huggingface_data.push_to_hub(repo_id=\"jeongah/chatbot_emotion\", private=False)"
   ]
  },
  {
   "cell_type": "markdown",
   "id": "af7e3461-fc63-48ea-9562-4d4d24356164",
   "metadata": {},
   "source": [
    "HfHubHTTPError: 403 Client Error: Forbidden for url: https://huggingface.co/api/repos/create (Request ID: ~) You don't have the rights to create a dataset under this namespace<br>-> huggingface-cli login"
   ]
  },
  {
   "cell_type": "code",
   "execution_count": null,
   "id": "07d6d8c0-800e-4e2d-9349-3dd1bf2d690c",
   "metadata": {},
   "outputs": [],
   "source": []
  },
  {
   "cell_type": "code",
   "execution_count": null,
   "id": "21b716ed-3b7d-4780-9506-6d4a95894cb8",
   "metadata": {},
   "outputs": [],
   "source": []
  },
  {
   "cell_type": "code",
   "execution_count": null,
   "id": "68325c30-f31f-48f3-8e08-29b881fd487f",
   "metadata": {},
   "outputs": [],
   "source": []
  }
 ],
 "metadata": {
  "kernelspec": {
   "display_name": "Python 3 (ipykernel)",
   "language": "python",
   "name": "python3"
  },
  "language_info": {
   "codemirror_mode": {
    "name": "ipython",
    "version": 3
   },
   "file_extension": ".py",
   "mimetype": "text/x-python",
   "name": "python",
   "nbconvert_exporter": "python",
   "pygments_lexer": "ipython3",
   "version": "3.8.5"
  }
 },
 "nbformat": 4,
 "nbformat_minor": 5
}
