{
 "cells": [
  {
   "cell_type": "code",
   "execution_count": 1,
   "id": "f4f6196c-a2b6-4530-9e37-8261e12a62d1",
   "metadata": {},
   "outputs": [],
   "source": [
    "import pandas as pd\n",
    "import numpy as np\n",
    "from pandas import Series, DataFrame\n",
    "\n",
    "import sys\n",
    "import re\n",
    "import string\n",
    "\n",
    "import json\n",
    "from tqdm import tqdm"
   ]
  },
  {
   "cell_type": "markdown",
   "id": "99b984f0-3c15-42de-9c27-ff2d78aadb92",
   "metadata": {},
   "source": [
    "### unzip 명령어를 통해 path에 json 파일들을 저장해둔 상태에서 라벨이 Q,A인 csv 파일을 만들고자 한다\n",
    "unzip Kakao1.zip -d /opt/ml/notebooks/AI_HUB_unzip"
   ]
  },
  {
   "cell_type": "code",
   "execution_count": 2,
   "id": "d72ad045-97a8-45b5-8e65-242f9c4c2724",
   "metadata": {},
   "outputs": [],
   "source": [
    "import os\n",
    "\n",
    "path = './AI_HUB_unzip/' \n",
    "file_list = os.listdir(path)\n",
    "file_list_py = [file for file in file_list if file.endswith('.json')] ## 파일명 끝이 .csv인 경우\n",
    "#file_list_py"
   ]
  },
  {
   "cell_type": "code",
   "execution_count": 3,
   "id": "15cb8215-634c-454b-8047-4a2ba358479c",
   "metadata": {},
   "outputs": [],
   "source": [
    "QA = {'Q': [], 'A': []}\n",
    "QA_set = DataFrame(QA)"
   ]
  },
  {
   "cell_type": "code",
   "execution_count": 4,
   "id": "2ed669a7-6cbc-456f-a36c-68c42718abb7",
   "metadata": {},
   "outputs": [
    {
     "name": "stderr",
     "output_type": "stream",
     "text": [
      "100%|██████████| 57181/57181 [23:59<00:00, 39.73it/s] \n"
     ]
    }
   ],
   "source": [
    "for name in tqdm(file_list_py):\n",
    "    with open(path+'/'+name, encoding='utf-8-sig') as f:\n",
    "        js = json.loads(f.read())\n",
    "    \n",
    "    cnt = len(js['info'][0]['annotations']['lines'])\n",
    "    index = [x for x in range(0, cnt)]\n",
    "    \n",
    "    result = pd.DataFrame(js['info'][0]['annotations']['lines'], index)\n",
    "    arr_Q = []\n",
    "    arr_A = []\n",
    "    \n",
    "    for i in range(0, cnt-1):\n",
    "        arr_Q.append(result['norm_text'][i])\n",
    "        arr_A.append(result['norm_text'][i+1])\n",
    "        \n",
    "    raw = {'Q': arr_Q, 'A': arr_A}\n",
    "    raw_pd = DataFrame(raw)\n",
    "    QA_set = pd.concat([QA_set, DataFrame(raw)])"
   ]
  },
  {
   "cell_type": "code",
   "execution_count": 5,
   "id": "24d7eea0-8311-4817-9143-60afe44141b6",
   "metadata": {},
   "outputs": [],
   "source": [
    "QA_set.to_csv('whole_kakao.csv') \n",
    "# kakao_1 : 38755 *2 column\n",
    "# insta : 70056 rows × 2 columns"
   ]
  },
  {
   "cell_type": "code",
   "execution_count": null,
   "id": "5d13ca31-949f-4751-a4ce-d2c5ca4aa733",
   "metadata": {},
   "outputs": [],
   "source": []
  }
 ],
 "metadata": {
  "kernelspec": {
   "display_name": "Python 3 (ipykernel)",
   "language": "python",
   "name": "python3"
  },
  "language_info": {
   "codemirror_mode": {
    "name": "ipython",
    "version": 3
   },
   "file_extension": ".py",
   "mimetype": "text/x-python",
   "name": "python",
   "nbconvert_exporter": "python",
   "pygments_lexer": "ipython3",
   "version": "3.8.5"
  }
 },
 "nbformat": 4,
 "nbformat_minor": 5
}
